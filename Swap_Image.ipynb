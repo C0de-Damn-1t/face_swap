{
 "cells": [
  {
   "cell_type": "code",
   "execution_count": 1,
   "id": "1478c6da",
   "metadata": {},
   "outputs": [],
   "source": [
    "import cv2"
   ]
  },
  {
   "cell_type": "code",
   "execution_count": 2,
   "id": "b95b1561",
   "metadata": {},
   "outputs": [],
   "source": [
    "jeff=cv2.imread('jeff.jpg')"
   ]
  },
  {
   "cell_type": "code",
   "execution_count": 3,
   "id": "44734c51",
   "metadata": {},
   "outputs": [],
   "source": [
    "bill=cv2.imread('bill.jpg')"
   ]
  },
  {
   "cell_type": "code",
   "execution_count": 4,
   "id": "588792ac",
   "metadata": {},
   "outputs": [],
   "source": [
    "model=cv2.CascadeClassifier('haarcascade_frontalface_default.xml')"
   ]
  },
  {
   "cell_type": "code",
   "execution_count": 5,
   "id": "f1dd3a60",
   "metadata": {},
   "outputs": [],
   "source": [
    "face=model.detectMultiScale(jeff)"
   ]
  },
  {
   "cell_type": "code",
   "execution_count": 6,
   "id": "6d669138",
   "metadata": {},
   "outputs": [
    {
     "data": {
      "text/plain": [
       "(array([[149, 144, 296, 296]], dtype=int32),\n",
       " array([[161, 144, 277, 277]], dtype=int32))"
      ]
     },
     "execution_count": 6,
     "metadata": {},
     "output_type": "execute_result"
    }
   ],
   "source": [
    "face2=model.detectMultiScale(bill)\n",
    "face,face2"
   ]
  },
  {
   "cell_type": "code",
   "execution_count": 7,
   "id": "6f404d5a",
   "metadata": {},
   "outputs": [],
   "source": [
    "jeff_face=jeff[149:149+296,144:144+296]\n",
    "bill_face=bill[162:162+287,134:134+287]"
   ]
  },
  {
   "cell_type": "code",
   "execution_count": 8,
   "id": "87c3314c",
   "metadata": {},
   "outputs": [],
   "source": [
    "jeff_crop=cv2.resize(jeff_face,(287,287),)\n",
    "bill_crop=cv2.resize(bill_face,(296,296),)"
   ]
  },
  {
   "cell_type": "code",
   "execution_count": 9,
   "id": "8675c176",
   "metadata": {},
   "outputs": [
    {
     "data": {
      "text/plain": [
       "(array([[[230, 234, 245],\n",
       "         [230, 232, 243],\n",
       "         [230, 232, 243],\n",
       "         ...,\n",
       "         [230, 234, 245],\n",
       "         [228, 232, 243],\n",
       "         [229, 233, 244]],\n",
       " \n",
       "        [[230, 233, 247],\n",
       "         [231, 233, 244],\n",
       "         [230, 232, 243],\n",
       "         ...,\n",
       "         [229, 232, 246],\n",
       "         [230, 233, 247],\n",
       "         [231, 233, 244]],\n",
       " \n",
       "        [[230, 233, 247],\n",
       "         [228, 232, 243],\n",
       "         [230, 232, 243],\n",
       "         ...,\n",
       "         [230, 233, 247],\n",
       "         [228, 231, 245],\n",
       "         [229, 233, 244]],\n",
       " \n",
       "        ...,\n",
       " \n",
       "        [[229, 231, 242],\n",
       "         [230, 232, 242],\n",
       "         [230, 232, 242],\n",
       "         ...,\n",
       "         [120,  84,  76],\n",
       "         [130,  95,  90],\n",
       "         [130,  98,  92]],\n",
       " \n",
       "        [[228, 230, 240],\n",
       "         [229, 231, 241],\n",
       "         [229, 230, 240],\n",
       "         ...,\n",
       "         [133, 114, 106],\n",
       "         [139, 119, 112],\n",
       "         [130, 108, 102]],\n",
       " \n",
       "        [[228, 230, 240],\n",
       "         [229, 230, 240],\n",
       "         [230, 231, 241],\n",
       "         ...,\n",
       "         [181, 168, 166],\n",
       "         [188, 179, 180],\n",
       "         [177, 171, 172]]], dtype=uint8),\n",
       " array([[[242, 244, 254],\n",
       "         [241, 243, 253],\n",
       "         [240, 245, 254],\n",
       "         ...,\n",
       "         [241, 246, 255],\n",
       "         [241, 246, 255],\n",
       "         [241, 246, 255]],\n",
       " \n",
       "        [[241, 243, 253],\n",
       "         [242, 244, 255],\n",
       "         [242, 244, 254],\n",
       "         ...,\n",
       "         [241, 246, 255],\n",
       "         [241, 246, 255],\n",
       "         [241, 246, 255]],\n",
       " \n",
       "        [[242, 244, 255],\n",
       "         [242, 244, 255],\n",
       "         [242, 244, 254],\n",
       "         ...,\n",
       "         [240, 245, 254],\n",
       "         [241, 246, 255],\n",
       "         [241, 246, 255]],\n",
       " \n",
       "        ...,\n",
       " \n",
       "        [[239, 241, 252],\n",
       "         [238, 240, 250],\n",
       "         [238, 240, 251],\n",
       "         ...,\n",
       "         [ 27,  28,  29],\n",
       "         [ 34,  32,  35],\n",
       "         [ 32,  32,  34]],\n",
       " \n",
       "        [[240, 240, 252],\n",
       "         [239, 240, 250],\n",
       "         [239, 241, 252],\n",
       "         ...,\n",
       "         [ 31,  28,  30],\n",
       "         [ 30,  29,  31],\n",
       "         [ 29,  31,  32]],\n",
       " \n",
       "        [[239, 241, 252],\n",
       "         [239, 241, 252],\n",
       "         [240, 240, 252],\n",
       "         ...,\n",
       "         [ 24,  23,  23],\n",
       "         [ 31,  31,  31],\n",
       "         [ 26,  28,  29]]], dtype=uint8))"
      ]
     },
     "execution_count": 9,
     "metadata": {},
     "output_type": "execute_result"
    }
   ],
   "source": [
    "jeff_crop,bill_crop\n"
   ]
  },
  {
   "cell_type": "code",
   "execution_count": 10,
   "id": "9ddeb069",
   "metadata": {},
   "outputs": [],
   "source": [
    "jeff[149:149+296,144:144+296]=bill_crop\n",
    "bill[162:162+287,134:134+287 ]=jeff_crop"
   ]
  },
  {
   "cell_type": "code",
   "execution_count": 11,
   "id": "712edec0",
   "metadata": {},
   "outputs": [],
   "source": [
    "import numpy"
   ]
  },
  {
   "cell_type": "code",
   "execution_count": 12,
   "id": "3f73baee",
   "metadata": {},
   "outputs": [],
   "source": [
    "img=numpy.concatenate((jeff,bill),axis=1)"
   ]
  },
  {
   "cell_type": "code",
   "execution_count": 13,
   "id": "4da4f6c1",
   "metadata": {},
   "outputs": [],
   "source": [
    "cv2.imshow(\"h\",img)\n",
    "cv2.waitKey()\n",
    "cv2.destroyAllWindows()"
   ]
  },
  {
   "cell_type": "code",
   "execution_count": null,
   "id": "f7b875ac",
   "metadata": {},
   "outputs": [],
   "source": []
  }
 ],
 "metadata": {
  "kernelspec": {
   "display_name": "Python 3",
   "language": "python",
   "name": "python3"
  },
  "language_info": {
   "codemirror_mode": {
    "name": "ipython",
    "version": 3
   },
   "file_extension": ".py",
   "mimetype": "text/x-python",
   "name": "python",
   "nbconvert_exporter": "python",
   "pygments_lexer": "ipython3",
   "version": "3.8.8"
  }
 },
 "nbformat": 4,
 "nbformat_minor": 5
}
