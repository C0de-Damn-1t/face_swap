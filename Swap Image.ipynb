{
 "cells": [
  {
   "cell_type": "code",
   "execution_count": 1,
   "id": "5d07a356",
   "metadata": {},
   "outputs": [],
   "source": [
    "import cv2"
   ]
  },
  {
   "cell_type": "code",
   "execution_count": 2,
   "id": "4b622365",
   "metadata": {},
   "outputs": [],
   "source": [
    "jeff=cv2.imread('jeff.jpg')"
   ]
  },
  {
   "cell_type": "code",
   "execution_count": 3,
   "id": "83e02640",
   "metadata": {},
   "outputs": [],
   "source": [
    "bill=cv2.imread('bill.jpg')"
   ]
  },
  {
   "cell_type": "code",
   "execution_count": 4,
   "id": "f6c7e53e",
   "metadata": {},
   "outputs": [],
   "source": [
    "jeff[50:450,100:500] = jeff[50:450,100:500] + bill[50:450,100:500]\n",
    "bill[50:450,100:500] = jeff[50:450,100:500] - bill[50:450,100:500]\n",
    "jeff[50:450,100:500] = jeff[50:450,100:500] - bill[50:450,100:500]"
   ]
  },
  {
   "cell_type": "code",
   "execution_count": 5,
   "id": "45d33b16",
   "metadata": {},
   "outputs": [],
   "source": [
    "cv2.imshow('Jeff_Face_Swapped',jeff)\n",
    "cv2.waitKey()\n",
    "cv2.destroyAllWindows()"
   ]
  },
  {
   "cell_type": "code",
   "execution_count": 6,
   "id": "295da8ee",
   "metadata": {},
   "outputs": [],
   "source": [
    "cv2.imshow('Bill_Face_Swapped',bill)\n",
    "cv2.waitKey()\n",
    "cv2.destroyAllWindows()"
   ]
  },
  {
   "cell_type": "code",
   "execution_count": null,
   "id": "59d41371",
   "metadata": {},
   "outputs": [],
   "source": []
  }
 ],
 "metadata": {
  "kernelspec": {
   "display_name": "Python 3",
   "language": "python",
   "name": "python3"
  },
  "language_info": {
   "codemirror_mode": {
    "name": "ipython",
    "version": 3
   },
   "file_extension": ".py",
   "mimetype": "text/x-python",
   "name": "python",
   "nbconvert_exporter": "python",
   "pygments_lexer": "ipython3",
   "version": "3.8.8"
  }
 },
 "nbformat": 4,
 "nbformat_minor": 5
}
